{
 "cells": [
  {
   "cell_type": "code",
   "execution_count": 8,
   "id": "840398bf",
   "metadata": {},
   "outputs": [
    {
     "name": "stdout",
     "output_type": "stream",
     "text": [
      "Contrast Features: [18.34067524 13.55599634 18.51865042 16.4069414  18.30138056 18.19471336\n",
      " 57.20869363]\n"
     ]
    }
   ],
   "source": [
    "import librosa\n",
    "import numpy as np\n",
    "\n",
    "# Load the speech signal\n",
    "audio_path = 'C:/Users/LOKESH PAPPU/Desktop/NITW/day 11/Mozilla Dataset Adult/Female/common_voice_en_31832840.mp3'\n",
    "signal, sr = librosa.load(audio_path, sr=None)\n",
    "\n",
    "# Extract contrast features\n",
    "contrast_features = np.mean(librosa.feature.spectral_contrast(y=signal, sr=sr,n_bands=6).T,axis=0)\n",
    "\n",
    "# Print the contrast features\n",
    "print(\"Contrast Features:\", contrast_features)\n"
   ]
  },
  {
   "cell_type": "code",
   "execution_count": 13,
   "id": "aea07284",
   "metadata": {},
   "outputs": [],
   "source": [
    "import os\n",
    "import librosa\n",
    "\n",
    "# Directory path containing the audio files\n",
    "directory = 'C:/Users/LOKESH PAPPU/Desktop/NITW/day 11/Dataset Child/Female/'\n",
    "\n",
    "# Define the number of contrast bands\n",
    "\n",
    "all_contrast_features = []\n",
    "# Iterate over the files in the directory\n",
    "for filename in os.listdir(directory):\n",
    "    if filename.endswith('.wav'):\n",
    "        # Load the audio signal\n",
    "        audio_path = os.path.join(directory, filename)\n",
    "        signal, sr = librosa.load(audio_path, sr=None)\n",
    "\n",
    "        # Extract contrast features\n",
    "        contrast_features = np.mean(librosa.feature.spectral_contrast(y=signal, sr=sr, n_bands=6).T,axis=0)\n",
    "        all_contrast_features.append(contrast_features)\n",
    "import pandas as pd\n",
    "df=pd.DataFrame(all_contrast_features)\n",
    "df[\"gender\"]=\"female\"\n",
    "df[\"label\"]=\"child\"\n",
    "df.to_csv(\"Child_Female_Contrast_Features.csv\",index=False)\n",
    "        "
   ]
  },
  {
   "cell_type": "code",
   "execution_count": 14,
   "id": "267a0707",
   "metadata": {},
   "outputs": [],
   "source": [
    "import os\n",
    "import librosa\n",
    "\n",
    "# Directory path containing the audio files\n",
    "directory = 'C:/Users/LOKESH PAPPU/Desktop/NITW/day 11/Dataset Child/Male/'\n",
    "\n",
    "# Define the number of contrast bands\n",
    "\n",
    "all_contrast_features = []\n",
    "# Iterate over the files in the directory\n",
    "for filename in os.listdir(directory):\n",
    "    if filename.endswith('.wav'):\n",
    "        # Load the audio signal\n",
    "        audio_path = os.path.join(directory, filename)\n",
    "        signal, sr = librosa.load(audio_path, sr=None)\n",
    "\n",
    "        # Extract contrast features\n",
    "        contrast_features = np.mean(librosa.feature.spectral_contrast(y=signal, sr=sr, n_bands=6).T,axis=0)\n",
    "        all_contrast_features.append(contrast_features)\n",
    "import pandas as pd\n",
    "df=pd.DataFrame(all_contrast_features)\n",
    "df[\"gender\"]=\"male\"\n",
    "df[\"label\"]=\"child\"\n",
    "df.to_csv(\"Child_Male_Contrast_Features.csv\",index=False)"
   ]
  },
  {
   "cell_type": "code",
   "execution_count": 15,
   "id": "095d4ebf",
   "metadata": {},
   "outputs": [],
   "source": [
    "import os\n",
    "import librosa\n",
    "\n",
    "# Directory path containing the audio files\n",
    "directory = 'C:/Users/LOKESH PAPPU/Desktop/NITW/day 11/Mozilla Dataset Adult/Female/'\n",
    "\n",
    "# Define the number of contrast bands\n",
    "\n",
    "all_contrast_features = []\n",
    "# Iterate over the files in the directory\n",
    "for filename in os.listdir(directory):\n",
    "    if filename.endswith('.mp3'):\n",
    "        # Load the audio signal\n",
    "        audio_path = os.path.join(directory, filename)\n",
    "        signal, sr = librosa.load(audio_path, sr=None)\n",
    "\n",
    "        # Extract contrast features\n",
    "        contrast_features = np.mean(librosa.feature.spectral_contrast(y=signal, sr=sr, n_bands=6).T,axis=0)\n",
    "        all_contrast_features.append(contrast_features)\n",
    "import pandas as pd\n",
    "df=pd.DataFrame(all_contrast_features)\n",
    "df[\"gender\"]=\"female\"\n",
    "df[\"label\"]=\"adult\"\n",
    "df.to_csv(\"Adult_Female_Contrast_Features.csv\",index=False)"
   ]
  },
  {
   "cell_type": "code",
   "execution_count": 16,
   "id": "81df8b4e",
   "metadata": {},
   "outputs": [],
   "source": [
    "import os\n",
    "import librosa\n",
    "\n",
    "# Directory path containing the audio files\n",
    "directory = 'C:/Users/LOKESH PAPPU/Desktop/NITW/day 11/Mozilla Dataset Adult/Male/'\n",
    "\n",
    "# Define the number of contrast bands\n",
    "\n",
    "all_contrast_features = []\n",
    "# Iterate over the files in the directory\n",
    "for filename in os.listdir(directory):\n",
    "    if filename.endswith('.mp3'):\n",
    "        # Load the audio signal\n",
    "        audio_path = os.path.join(directory, filename)\n",
    "        signal, sr = librosa.load(audio_path, sr=None)\n",
    "\n",
    "        # Extract contrast features\n",
    "        contrast_features = np.mean(librosa.feature.spectral_contrast(y=signal, sr=sr, n_bands=6).T,axis=0)\n",
    "        all_contrast_features.append(contrast_features)\n",
    "import pandas as pd\n",
    "df=pd.DataFrame(all_contrast_features)\n",
    "df[\"gender\"]=\"male\"\n",
    "df[\"label\"]=\"adult\"\n",
    "df.to_csv(\"Adult_male_Contrast_Features.csv\",index=False)"
   ]
  },
  {
   "cell_type": "code",
   "execution_count": null,
   "id": "b57a7e36",
   "metadata": {},
   "outputs": [],
   "source": []
  }
 ],
 "metadata": {
  "kernelspec": {
   "display_name": "Python 3",
   "language": "python",
   "name": "python3"
  },
  "language_info": {
   "codemirror_mode": {
    "name": "ipython",
    "version": 3
   },
   "file_extension": ".py",
   "mimetype": "text/x-python",
   "name": "python",
   "nbconvert_exporter": "python",
   "pygments_lexer": "ipython3",
   "version": "3.8.8"
  }
 },
 "nbformat": 4,
 "nbformat_minor": 5
}
